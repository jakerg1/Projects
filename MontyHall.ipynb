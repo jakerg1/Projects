{
  "nbformat": 4,
  "nbformat_minor": 0,
  "metadata": {
    "colab": {
      "provenance": []
    },
    "kernelspec": {
      "name": "python3",
      "display_name": "Python 3"
    },
    "language_info": {
      "name": "python"
    }
  },
  "cells": [
    {
      "cell_type": "markdown",
      "source": [
        "### I saw the Monty Hall Problem get mentioned in a TV show. I thought that switching doesn't change the probability but it turned out I was wrong. I wanted to test it myself."
      ],
      "metadata": {
        "id": "LKwhPgYyjo96"
      }
    },
    {
      "cell_type": "markdown",
      "source": [
        "\n",
        ""
      ],
      "metadata": {
        "id": "cyE-UGzrk3eR"
      }
    },
    {
      "cell_type": "code",
      "execution_count": 103,
      "metadata": {
        "colab": {
          "base_uri": "https://localhost:8080/"
        },
        "id": "E8FfJ_-4jnI1",
        "outputId": "89b01fad-d343-4bbd-a29d-494b701dde4a"
      },
      "outputs": [
        {
          "output_type": "stream",
          "name": "stdout",
          "text": [
            "34.4% correct by staying\n",
            "75.7% correct by switching doors\n"
          ]
        }
      ],
      "source": [
        "'''I saw the Monty Hall Problem get mentioned in a TV show. I thought that switching doesn't change the probability but it turned out I was wrong. I wanted to test it myself.'''\n",
        "\n",
        "import random\n",
        "\n",
        "\n",
        "num_of_tests = 1000\n",
        "correct_choices = 0\n",
        "correct_choices_2 = 0\n",
        "\n",
        "for i in range(num_of_tests):\n",
        "  car_door = random.randint(1, 3)\n",
        "  door_choice = random.randint(1, 3)\n",
        "\n",
        "  if car_door == door_choice:\n",
        "    correct_choices += 1\n",
        "\n",
        "  doors = [1, 2, 3]\n",
        "  doors.remove(door_choice)\n",
        "\n",
        "  if car_door in doors:\n",
        "    doors.remove(car_door)\n",
        "\n",
        "  for num in [1, 2, 3]:\n",
        "      if num != door_choice and num not in doors:\n",
        "        switch_to = num\n",
        "        break\n",
        "\n",
        "  if switch_to == car_door:\n",
        "      correct_choices_2 += 1\n",
        "\n",
        "\n",
        "percentage_correct_staying = correct_choices/num_of_tests * 100\n",
        "print(f'{percentage_correct_staying}% correct by staying')\n",
        "percentage_correct_switching = correct_choices_2 / num_of_tests * 100\n",
        "print(f'{percentage_correct_switching}% correct by switching doors')\n",
        "\n"
      ]
    }
  ]
}